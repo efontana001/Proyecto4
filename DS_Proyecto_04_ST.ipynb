{
 "cells": [
  {
   "cell_type": "markdown",
   "metadata": {
    "colab_type": "text",
    "id": "Y5xSScYVId1j"
   },
   "source": [
    "# Proyecto 03 - Series de Tiempo\n",
    "\n",
    "## Dataset: Flujo Vehicular por Unidades de Peaje AUSA\n",
    "\n",
    "**Recuerda descargar el dataset de [aquí](https://data.buenosaires.gob.ar/dataset/flujo-vehicular-por-unidades-peaje-ausa). Deberás descargar -  al menos para comenzar - los años 2017, 2018 y 2019.**\n",
    "\n",
    "En este notebook te dejamos unas celdas para que puedas comenzar a trabajar con este dataset para los años 2017, 2018 y 2019. Si deseas utilizar otros años, ten en cuenta que deberás hacer el preprocesamiento correspondiente, ya que la estructura de los datos puede variar.\n",
    "\n",
    "**Importante:** Para el proyecto, debes comenzar con los datos de la autopista Illia, pago en Efectivo.\n",
    "\n",
    "### Exploración de datos\n",
    "\n",
    "Dedícale un buen tiempo a hacer un Análisis Exploratorio de Datos. Elige preguntas que creas que puedas responder con este dataset. Por ejemplo, ¿Cuáles son los días y horarios de mayor tráfico? También, estudia autocorrelaciones, resampleos, etc.\n",
    "\n",
    "#### Componentes de la serie\n",
    "\n",
    "1. Calcula las componentes estacionales y tendencia de la serie. Interpreta los resultados, si es necesario con información auxiliar (por fuera del dataset) o elementos del dataset que no estés utilizando (por ejemplo, si la tendencia es negativa, ¿puede ser porque se migre a otras formas de pago?).\n",
    "1. ¿La serie posee valores atípicos? Si es así, interpreta, si es necesario con información auxiliar. **Pista**: primer semestre 2019.\n",
    "\n",
    "### Predicción a Futuro\n",
    "\n",
    "Debes implementar un modelo que prediga el tráfico en la autopista Illia para el último trimestre del 2019. \n",
    "\n",
    "1. Haz todas las transformaciones de datos que consideres necesarias. Justifica.\n",
    "1. Evalúa de forma apropiada tus resultados. Justifica la métrica elegida.\n",
    "1. Elige un modelo benchmark y compara tus resultados con este modelo.\n",
    "1. Optimiza los hiperparámetros de tu modelo. \n",
    "1. Intenta responder la pregunta: ¿Qué información está usando el modelo para predecir?\n",
    "1. Utiliza el modelo creado para predecir el tráfico en el año 2020. ¿Cómo funciona?\n",
    "1. Si lo deseas, puedes agregar información de años anteriores a 2017. ¿Mejoran los resultados?\n",
    "\n",
    "### Para pensar, investigar y, opcionalmente, implementar\n",
    "1. ¿Cómo incorporarías la información sobre tipo de vehículo, forma de pago, sentido, día de la semana, etc.? En lo que respecta a las predicciones, ¿mejoran o empeoran?\n",
    "1. ¿Qué ocurre si comparas las series de tiempo entre distintas estaciones de peajes?¿Tienen el mismo comportamiento o hay alguna que sea distinta a las otras? Si es así, ¿hay información auxiliar que te ayude a explicar lo que encuentras?\n",
    "1. ¿Hay algo que te gustaría investigar o probar?\n",
    "\n",
    "### **¡Tómate tiempo para investigar y leer mucho!**\n",
    "\n",
    "### 1. Preparación del Dataset"
   ]
  },
  {
   "cell_type": "code",
   "execution_count": 3,
   "metadata": {
    "colab": {},
    "colab_type": "code",
    "id": "W7HAw3EvId1m"
   },
   "outputs": [],
   "source": [
    "#data[data.date_check != datetime.timedelta(1)] funciona revisar para obtener fechas faltantes\n",
    "import pandas as pd\n",
    "import numpy as np\n",
    "import matplotlib.pyplot as plt\n",
    "import datetime"
   ]
  },
  {
   "cell_type": "code",
   "execution_count": 4,
   "metadata": {
    "colab": {},
    "colab_type": "code",
    "id": "hgxJSUQ0Id1x"
   },
   "outputs": [],
   "source": [
    "data_2019 = pd.read_csv('flujo-vehicular-2019.csv', sep =',')\n",
    "data_2018 = pd.read_csv('flujo-vehicular-2018.csv', sep =',')\n",
    "data_2017 = pd.read_csv('flujo-vehicular-2017.csv', sep =',')\n",
    "data_2016 = pd.read_csv('flujo-vehicular-2016.csv', sep =',')\n"
   ]
  },
  {
   "cell_type": "code",
   "execution_count": 5,
   "metadata": {
    "colab": {},
    "colab_type": "code",
    "id": "-rqv8_yHId19",
    "outputId": "775c8fcb-7707-4d61-b520-703151acb587"
   },
   "outputs": [
    {
     "name": "stdout",
     "output_type": "stream",
     "text": [
      "<class 'pandas.core.frame.DataFrame'>\n",
      "RangeIndex: 812153 entries, 0 to 812152\n",
      "Data columns (total 10 columns):\n",
      " #   Column          Non-Null Count   Dtype \n",
      "---  ------          --------------   ----- \n",
      " 0   periodo         812153 non-null  int64 \n",
      " 1   fecha           812153 non-null  object\n",
      " 2   hora_inicio     812153 non-null  int64 \n",
      " 3   hora_fin        812153 non-null  int64 \n",
      " 4   dia             812153 non-null  object\n",
      " 5   estacion        812153 non-null  object\n",
      " 6   sentido         812153 non-null  object\n",
      " 7   tipo_vehiculo   812153 non-null  object\n",
      " 8   forma_pago      812153 non-null  object\n",
      " 9   cantidad_pasos  812153 non-null  int64 \n",
      "dtypes: int64(4), object(6)\n",
      "memory usage: 62.0+ MB\n"
     ]
    },
    {
     "data": {
      "text/html": [
       "<div>\n",
       "<style scoped>\n",
       "    .dataframe tbody tr th:only-of-type {\n",
       "        vertical-align: middle;\n",
       "    }\n",
       "\n",
       "    .dataframe tbody tr th {\n",
       "        vertical-align: top;\n",
       "    }\n",
       "\n",
       "    .dataframe thead th {\n",
       "        text-align: right;\n",
       "    }\n",
       "</style>\n",
       "<table border=\"1\" class=\"dataframe\">\n",
       "  <thead>\n",
       "    <tr style=\"text-align: right;\">\n",
       "      <th></th>\n",
       "      <th>periodo</th>\n",
       "      <th>fecha</th>\n",
       "      <th>hora_inicio</th>\n",
       "      <th>hora_fin</th>\n",
       "      <th>dia</th>\n",
       "      <th>estacion</th>\n",
       "      <th>sentido</th>\n",
       "      <th>tipo_vehiculo</th>\n",
       "      <th>forma_pago</th>\n",
       "      <th>cantidad_pasos</th>\n",
       "    </tr>\n",
       "  </thead>\n",
       "  <tbody>\n",
       "    <tr>\n",
       "      <th>0</th>\n",
       "      <td>2019</td>\n",
       "      <td>2019-01-01</td>\n",
       "      <td>0</td>\n",
       "      <td>1</td>\n",
       "      <td>Martes</td>\n",
       "      <td>Alberti</td>\n",
       "      <td>Centro</td>\n",
       "      <td>Liviano</td>\n",
       "      <td>NO COBRADO</td>\n",
       "      <td>22</td>\n",
       "    </tr>\n",
       "    <tr>\n",
       "      <th>1</th>\n",
       "      <td>2019</td>\n",
       "      <td>2019-01-01</td>\n",
       "      <td>0</td>\n",
       "      <td>1</td>\n",
       "      <td>Martes</td>\n",
       "      <td>Alberti</td>\n",
       "      <td>Centro</td>\n",
       "      <td>Liviano</td>\n",
       "      <td>TELEPASE</td>\n",
       "      <td>6</td>\n",
       "    </tr>\n",
       "    <tr>\n",
       "      <th>2</th>\n",
       "      <td>2019</td>\n",
       "      <td>2019-01-01</td>\n",
       "      <td>0</td>\n",
       "      <td>1</td>\n",
       "      <td>Martes</td>\n",
       "      <td>Alberti</td>\n",
       "      <td>Provincia</td>\n",
       "      <td>Liviano</td>\n",
       "      <td>NO COBRADO</td>\n",
       "      <td>53</td>\n",
       "    </tr>\n",
       "    <tr>\n",
       "      <th>3</th>\n",
       "      <td>2019</td>\n",
       "      <td>2019-01-01</td>\n",
       "      <td>0</td>\n",
       "      <td>1</td>\n",
       "      <td>Martes</td>\n",
       "      <td>Alberti</td>\n",
       "      <td>Provincia</td>\n",
       "      <td>Liviano</td>\n",
       "      <td>TELEPASE</td>\n",
       "      <td>18</td>\n",
       "    </tr>\n",
       "    <tr>\n",
       "      <th>4</th>\n",
       "      <td>2019</td>\n",
       "      <td>2019-01-01</td>\n",
       "      <td>0</td>\n",
       "      <td>1</td>\n",
       "      <td>Martes</td>\n",
       "      <td>Avellaneda</td>\n",
       "      <td>Centro</td>\n",
       "      <td>Liviano</td>\n",
       "      <td>EFECTIVO</td>\n",
       "      <td>16</td>\n",
       "    </tr>\n",
       "  </tbody>\n",
       "</table>\n",
       "</div>"
      ],
      "text/plain": [
       "   periodo       fecha  hora_inicio  hora_fin     dia    estacion    sentido  \\\n",
       "0     2019  2019-01-01            0         1  Martes     Alberti     Centro   \n",
       "1     2019  2019-01-01            0         1  Martes     Alberti     Centro   \n",
       "2     2019  2019-01-01            0         1  Martes     Alberti  Provincia   \n",
       "3     2019  2019-01-01            0         1  Martes     Alberti  Provincia   \n",
       "4     2019  2019-01-01            0         1  Martes  Avellaneda     Centro   \n",
       "\n",
       "  tipo_vehiculo  forma_pago  cantidad_pasos  \n",
       "0       Liviano  NO COBRADO              22  \n",
       "1       Liviano    TELEPASE               6  \n",
       "2       Liviano  NO COBRADO              53  \n",
       "3       Liviano    TELEPASE              18  \n",
       "4       Liviano    EFECTIVO              16  "
      ]
     },
     "execution_count": 5,
     "metadata": {},
     "output_type": "execute_result"
    }
   ],
   "source": [
    "data_2019.info()\n",
    "data_2019.head()"
   ]
  },
  {
   "cell_type": "code",
   "execution_count": 6,
   "metadata": {
    "colab": {},
    "colab_type": "code",
    "id": "t327LOEhId2G",
    "outputId": "56c75966-efc5-437f-9579-a953f202ba0c"
   },
   "outputs": [
    {
     "name": "stdout",
     "output_type": "stream",
     "text": [
      "<class 'pandas.core.frame.DataFrame'>\n",
      "RangeIndex: 1375908 entries, 0 to 1375907\n",
      "Data columns (total 10 columns):\n",
      " #   Column          Non-Null Count    Dtype \n",
      "---  ------          --------------    ----- \n",
      " 0   periodo         1375908 non-null  int64 \n",
      " 1   fecha           1375908 non-null  object\n",
      " 2   hora_inicio     1375908 non-null  int64 \n",
      " 3   hora_fin        1375908 non-null  int64 \n",
      " 4   dia             1375908 non-null  object\n",
      " 5   estacion        1375908 non-null  object\n",
      " 6   sentido         1375908 non-null  object\n",
      " 7   tipo_vehiculo   1375908 non-null  object\n",
      " 8   forma_pago      1375908 non-null  object\n",
      " 9   cantidad_pasos  1375908 non-null  int64 \n",
      "dtypes: int64(4), object(6)\n",
      "memory usage: 105.0+ MB\n"
     ]
    },
    {
     "data": {
      "text/html": [
       "<div>\n",
       "<style scoped>\n",
       "    .dataframe tbody tr th:only-of-type {\n",
       "        vertical-align: middle;\n",
       "    }\n",
       "\n",
       "    .dataframe tbody tr th {\n",
       "        vertical-align: top;\n",
       "    }\n",
       "\n",
       "    .dataframe thead th {\n",
       "        text-align: right;\n",
       "    }\n",
       "</style>\n",
       "<table border=\"1\" class=\"dataframe\">\n",
       "  <thead>\n",
       "    <tr style=\"text-align: right;\">\n",
       "      <th></th>\n",
       "      <th>periodo</th>\n",
       "      <th>fecha</th>\n",
       "      <th>hora_inicio</th>\n",
       "      <th>hora_fin</th>\n",
       "      <th>dia</th>\n",
       "      <th>estacion</th>\n",
       "      <th>sentido</th>\n",
       "      <th>tipo_vehiculo</th>\n",
       "      <th>forma_pago</th>\n",
       "      <th>cantidad_pasos</th>\n",
       "    </tr>\n",
       "  </thead>\n",
       "  <tbody>\n",
       "    <tr>\n",
       "      <th>0</th>\n",
       "      <td>2018</td>\n",
       "      <td>2018-01-01</td>\n",
       "      <td>0</td>\n",
       "      <td>1</td>\n",
       "      <td>Lunes</td>\n",
       "      <td>Alberdi</td>\n",
       "      <td>Centro</td>\n",
       "      <td>Liviano</td>\n",
       "      <td>NO COBRADO</td>\n",
       "      <td>29</td>\n",
       "    </tr>\n",
       "    <tr>\n",
       "      <th>1</th>\n",
       "      <td>2018</td>\n",
       "      <td>2018-01-01</td>\n",
       "      <td>0</td>\n",
       "      <td>1</td>\n",
       "      <td>Lunes</td>\n",
       "      <td>Alberdi</td>\n",
       "      <td>Centro</td>\n",
       "      <td>Liviano</td>\n",
       "      <td>TELEPASE</td>\n",
       "      <td>9</td>\n",
       "    </tr>\n",
       "    <tr>\n",
       "      <th>2</th>\n",
       "      <td>2018</td>\n",
       "      <td>2018-01-01</td>\n",
       "      <td>1</td>\n",
       "      <td>2</td>\n",
       "      <td>Lunes</td>\n",
       "      <td>Alberdi</td>\n",
       "      <td>Centro</td>\n",
       "      <td>Liviano</td>\n",
       "      <td>NO COBRADO</td>\n",
       "      <td>73</td>\n",
       "    </tr>\n",
       "    <tr>\n",
       "      <th>3</th>\n",
       "      <td>2018</td>\n",
       "      <td>2018-01-01</td>\n",
       "      <td>1</td>\n",
       "      <td>2</td>\n",
       "      <td>Lunes</td>\n",
       "      <td>Alberdi</td>\n",
       "      <td>Centro</td>\n",
       "      <td>Liviano</td>\n",
       "      <td>TELEPASE</td>\n",
       "      <td>39</td>\n",
       "    </tr>\n",
       "    <tr>\n",
       "      <th>4</th>\n",
       "      <td>2018</td>\n",
       "      <td>2018-01-01</td>\n",
       "      <td>2</td>\n",
       "      <td>3</td>\n",
       "      <td>Lunes</td>\n",
       "      <td>Alberdi</td>\n",
       "      <td>Centro</td>\n",
       "      <td>Liviano</td>\n",
       "      <td>NO COBRADO</td>\n",
       "      <td>115</td>\n",
       "    </tr>\n",
       "  </tbody>\n",
       "</table>\n",
       "</div>"
      ],
      "text/plain": [
       "   periodo       fecha  hora_inicio  hora_fin    dia estacion sentido  \\\n",
       "0     2018  2018-01-01            0         1  Lunes  Alberdi  Centro   \n",
       "1     2018  2018-01-01            0         1  Lunes  Alberdi  Centro   \n",
       "2     2018  2018-01-01            1         2  Lunes  Alberdi  Centro   \n",
       "3     2018  2018-01-01            1         2  Lunes  Alberdi  Centro   \n",
       "4     2018  2018-01-01            2         3  Lunes  Alberdi  Centro   \n",
       "\n",
       "  tipo_vehiculo  forma_pago  cantidad_pasos  \n",
       "0       Liviano  NO COBRADO              29  \n",
       "1       Liviano    TELEPASE               9  \n",
       "2       Liviano  NO COBRADO              73  \n",
       "3       Liviano    TELEPASE              39  \n",
       "4       Liviano  NO COBRADO             115  "
      ]
     },
     "execution_count": 6,
     "metadata": {},
     "output_type": "execute_result"
    }
   ],
   "source": [
    "data_2018.info()\n",
    "data_2018.head()"
   ]
  },
  {
   "cell_type": "code",
   "execution_count": 7,
   "metadata": {
    "colab": {},
    "colab_type": "code",
    "id": "OvaBbZf_Id2N",
    "outputId": "cec6fee3-7f73-46c7-ea00-95dd150cd80a"
   },
   "outputs": [
    {
     "name": "stdout",
     "output_type": "stream",
     "text": [
      "<class 'pandas.core.frame.DataFrame'>\n",
      "RangeIndex: 1372645 entries, 0 to 1372644\n",
      "Data columns (total 10 columns):\n",
      " #   Column          Non-Null Count    Dtype \n",
      "---  ------          --------------    ----- \n",
      " 0   periodo         1372645 non-null  int64 \n",
      " 1   fecha           1372645 non-null  object\n",
      " 2   hora_inicio     1372645 non-null  int64 \n",
      " 3   hora_fin        1372645 non-null  int64 \n",
      " 4   dia             1372645 non-null  object\n",
      " 5   estacion        1372645 non-null  object\n",
      " 6   sentido         1372645 non-null  object\n",
      " 7   tipo_vehiculo   1372645 non-null  object\n",
      " 8   forma_pago      1372645 non-null  object\n",
      " 9   cantidad_pasos  1372645 non-null  int64 \n",
      "dtypes: int64(4), object(6)\n",
      "memory usage: 104.7+ MB\n"
     ]
    },
    {
     "data": {
      "text/html": [
       "<div>\n",
       "<style scoped>\n",
       "    .dataframe tbody tr th:only-of-type {\n",
       "        vertical-align: middle;\n",
       "    }\n",
       "\n",
       "    .dataframe tbody tr th {\n",
       "        vertical-align: top;\n",
       "    }\n",
       "\n",
       "    .dataframe thead th {\n",
       "        text-align: right;\n",
       "    }\n",
       "</style>\n",
       "<table border=\"1\" class=\"dataframe\">\n",
       "  <thead>\n",
       "    <tr style=\"text-align: right;\">\n",
       "      <th></th>\n",
       "      <th>periodo</th>\n",
       "      <th>fecha</th>\n",
       "      <th>hora_inicio</th>\n",
       "      <th>hora_fin</th>\n",
       "      <th>dia</th>\n",
       "      <th>estacion</th>\n",
       "      <th>sentido</th>\n",
       "      <th>tipo_vehiculo</th>\n",
       "      <th>forma_pago</th>\n",
       "      <th>cantidad_pasos</th>\n",
       "    </tr>\n",
       "  </thead>\n",
       "  <tbody>\n",
       "    <tr>\n",
       "      <th>0</th>\n",
       "      <td>2017</td>\n",
       "      <td>2017-01-01</td>\n",
       "      <td>0</td>\n",
       "      <td>1</td>\n",
       "      <td>Domingo</td>\n",
       "      <td>Alberdi</td>\n",
       "      <td>Centro</td>\n",
       "      <td>Liviano</td>\n",
       "      <td>NO COBRADO</td>\n",
       "      <td>25</td>\n",
       "    </tr>\n",
       "    <tr>\n",
       "      <th>1</th>\n",
       "      <td>2017</td>\n",
       "      <td>2017-01-01</td>\n",
       "      <td>0</td>\n",
       "      <td>1</td>\n",
       "      <td>Domingo</td>\n",
       "      <td>Alberdi</td>\n",
       "      <td>Centro</td>\n",
       "      <td>Liviano</td>\n",
       "      <td>TELEPASE</td>\n",
       "      <td>7</td>\n",
       "    </tr>\n",
       "    <tr>\n",
       "      <th>2</th>\n",
       "      <td>2017</td>\n",
       "      <td>2017-01-01</td>\n",
       "      <td>1</td>\n",
       "      <td>2</td>\n",
       "      <td>Domingo</td>\n",
       "      <td>Alberdi</td>\n",
       "      <td>Centro</td>\n",
       "      <td>Liviano</td>\n",
       "      <td>NO COBRADO</td>\n",
       "      <td>5</td>\n",
       "    </tr>\n",
       "    <tr>\n",
       "      <th>3</th>\n",
       "      <td>2017</td>\n",
       "      <td>2017-01-01</td>\n",
       "      <td>1</td>\n",
       "      <td>2</td>\n",
       "      <td>Domingo</td>\n",
       "      <td>Alberdi</td>\n",
       "      <td>Centro</td>\n",
       "      <td>Liviano</td>\n",
       "      <td>EFECTIVO</td>\n",
       "      <td>2</td>\n",
       "    </tr>\n",
       "    <tr>\n",
       "      <th>4</th>\n",
       "      <td>2017</td>\n",
       "      <td>2017-01-01</td>\n",
       "      <td>1</td>\n",
       "      <td>2</td>\n",
       "      <td>Domingo</td>\n",
       "      <td>Alberdi</td>\n",
       "      <td>Centro</td>\n",
       "      <td>Liviano</td>\n",
       "      <td>EFECTIVO</td>\n",
       "      <td>94</td>\n",
       "    </tr>\n",
       "  </tbody>\n",
       "</table>\n",
       "</div>"
      ],
      "text/plain": [
       "   periodo       fecha  hora_inicio  hora_fin      dia estacion sentido  \\\n",
       "0     2017  2017-01-01            0         1  Domingo  Alberdi  Centro   \n",
       "1     2017  2017-01-01            0         1  Domingo  Alberdi  Centro   \n",
       "2     2017  2017-01-01            1         2  Domingo  Alberdi  Centro   \n",
       "3     2017  2017-01-01            1         2  Domingo  Alberdi  Centro   \n",
       "4     2017  2017-01-01            1         2  Domingo  Alberdi  Centro   \n",
       "\n",
       "  tipo_vehiculo  forma_pago  cantidad_pasos  \n",
       "0       Liviano  NO COBRADO              25  \n",
       "1       Liviano    TELEPASE               7  \n",
       "2       Liviano  NO COBRADO               5  \n",
       "3       Liviano    EFECTIVO               2  \n",
       "4       Liviano    EFECTIVO              94  "
      ]
     },
     "execution_count": 7,
     "metadata": {},
     "output_type": "execute_result"
    }
   ],
   "source": [
    "data_2017.info()\n",
    "data_2017.head()"
   ]
  },
  {
   "cell_type": "code",
   "execution_count": 8,
   "metadata": {},
   "outputs": [
    {
     "name": "stdout",
     "output_type": "stream",
     "text": [
      "<class 'pandas.core.frame.DataFrame'>\n",
      "RangeIndex: 1379443 entries, 0 to 1379442\n",
      "Data columns (total 10 columns):\n",
      " #   Column          Non-Null Count    Dtype \n",
      "---  ------          --------------    ----- \n",
      " 0   periodo         1379443 non-null  int64 \n",
      " 1   fecha           1379443 non-null  object\n",
      " 2   hora_inicio     1379443 non-null  int64 \n",
      " 3   hora_fin        1379443 non-null  int64 \n",
      " 4   dia             1379443 non-null  object\n",
      " 5   estacion        1379443 non-null  object\n",
      " 6   sentido         1379443 non-null  object\n",
      " 7   tipo_vehiculo   1379443 non-null  object\n",
      " 8   forma_pago      1379443 non-null  object\n",
      " 9   cantidad_pasos  1379443 non-null  int64 \n",
      "dtypes: int64(4), object(6)\n",
      "memory usage: 105.2+ MB\n"
     ]
    },
    {
     "data": {
      "text/html": [
       "<div>\n",
       "<style scoped>\n",
       "    .dataframe tbody tr th:only-of-type {\n",
       "        vertical-align: middle;\n",
       "    }\n",
       "\n",
       "    .dataframe tbody tr th {\n",
       "        vertical-align: top;\n",
       "    }\n",
       "\n",
       "    .dataframe thead th {\n",
       "        text-align: right;\n",
       "    }\n",
       "</style>\n",
       "<table border=\"1\" class=\"dataframe\">\n",
       "  <thead>\n",
       "    <tr style=\"text-align: right;\">\n",
       "      <th></th>\n",
       "      <th>periodo</th>\n",
       "      <th>fecha</th>\n",
       "      <th>hora_inicio</th>\n",
       "      <th>hora_fin</th>\n",
       "      <th>dia</th>\n",
       "      <th>estacion</th>\n",
       "      <th>sentido</th>\n",
       "      <th>tipo_vehiculo</th>\n",
       "      <th>forma_pago</th>\n",
       "      <th>cantidad_pasos</th>\n",
       "    </tr>\n",
       "  </thead>\n",
       "  <tbody>\n",
       "    <tr>\n",
       "      <th>0</th>\n",
       "      <td>2016</td>\n",
       "      <td>2016-01-01</td>\n",
       "      <td>0</td>\n",
       "      <td>1</td>\n",
       "      <td>Viernes</td>\n",
       "      <td>Alberdi</td>\n",
       "      <td>Centro</td>\n",
       "      <td>Liviano</td>\n",
       "      <td>NO COBRADO</td>\n",
       "      <td>32</td>\n",
       "    </tr>\n",
       "    <tr>\n",
       "      <th>1</th>\n",
       "      <td>2016</td>\n",
       "      <td>2016-01-01</td>\n",
       "      <td>0</td>\n",
       "      <td>1</td>\n",
       "      <td>Viernes</td>\n",
       "      <td>Alberdi</td>\n",
       "      <td>Centro</td>\n",
       "      <td>Liviano</td>\n",
       "      <td>AUPASS</td>\n",
       "      <td>9</td>\n",
       "    </tr>\n",
       "    <tr>\n",
       "      <th>2</th>\n",
       "      <td>2016</td>\n",
       "      <td>2016-01-01</td>\n",
       "      <td>1</td>\n",
       "      <td>2</td>\n",
       "      <td>Viernes</td>\n",
       "      <td>Alberdi</td>\n",
       "      <td>Centro</td>\n",
       "      <td>Liviano</td>\n",
       "      <td>NO COBRADO</td>\n",
       "      <td>1</td>\n",
       "    </tr>\n",
       "    <tr>\n",
       "      <th>3</th>\n",
       "      <td>2016</td>\n",
       "      <td>2016-01-01</td>\n",
       "      <td>1</td>\n",
       "      <td>2</td>\n",
       "      <td>Viernes</td>\n",
       "      <td>Alberdi</td>\n",
       "      <td>Centro</td>\n",
       "      <td>Liviano</td>\n",
       "      <td>EFECTIVO</td>\n",
       "      <td>4</td>\n",
       "    </tr>\n",
       "    <tr>\n",
       "      <th>4</th>\n",
       "      <td>2016</td>\n",
       "      <td>2016-01-01</td>\n",
       "      <td>1</td>\n",
       "      <td>2</td>\n",
       "      <td>Viernes</td>\n",
       "      <td>Alberdi</td>\n",
       "      <td>Centro</td>\n",
       "      <td>Liviano</td>\n",
       "      <td>EXENTO</td>\n",
       "      <td>3</td>\n",
       "    </tr>\n",
       "  </tbody>\n",
       "</table>\n",
       "</div>"
      ],
      "text/plain": [
       "   periodo       fecha  hora_inicio  hora_fin      dia estacion sentido  \\\n",
       "0     2016  2016-01-01            0         1  Viernes  Alberdi  Centro   \n",
       "1     2016  2016-01-01            0         1  Viernes  Alberdi  Centro   \n",
       "2     2016  2016-01-01            1         2  Viernes  Alberdi  Centro   \n",
       "3     2016  2016-01-01            1         2  Viernes  Alberdi  Centro   \n",
       "4     2016  2016-01-01            1         2  Viernes  Alberdi  Centro   \n",
       "\n",
       "  tipo_vehiculo  forma_pago  cantidad_pasos  \n",
       "0       Liviano  NO COBRADO              32  \n",
       "1       Liviano      AUPASS               9  \n",
       "2       Liviano  NO COBRADO               1  \n",
       "3       Liviano    EFECTIVO               4  \n",
       "4       Liviano      EXENTO               3  "
      ]
     },
     "execution_count": 8,
     "metadata": {},
     "output_type": "execute_result"
    }
   ],
   "source": [
    "data_2016.info()\n",
    "data_2016.head()"
   ]
  },
  {
   "cell_type": "code",
   "execution_count": null,
   "metadata": {},
   "outputs": [],
   "source": []
  },
  {
   "cell_type": "markdown",
   "metadata": {
    "colab_type": "text",
    "id": "KcR5QSDTId2U"
   },
   "source": [
    "Investiguemos que valores toman los campos **estacion, sentido, tipo_vehiculo y forma_pago**"
   ]
  },
  {
   "cell_type": "code",
   "execution_count": 9,
   "metadata": {
    "colab": {},
    "colab_type": "code",
    "id": "5C-XUOgYId2V",
    "outputId": "65c139de-d876-4414-bea3-476d316dc643"
   },
   "outputs": [
    {
     "name": "stdout",
     "output_type": "stream",
     "text": [
      "['Alberti' 'Avellaneda' 'Dellepiane' 'Illia' 'Retiro' 'Salguero'\n",
      " 'Sarmiento' 'PDB']\n",
      "['Alberdi' 'Avellaneda' 'Dellepiane Centro' 'Dellepiane Liniers' 'Illia'\n",
      " 'Retiro' 'Salguero' 'Sarmiento']\n",
      "['Alberdi' 'Avellaneda' 'Dellepiane Centro' 'Dellepiane Liniers' 'Illia'\n",
      " 'Retiro' 'Salguero' 'Sarmiento']\n",
      "['Alberdi' 'Avellaneda' 'Dellepiane Centro' 'Dellepiane Liniers' 'Illia'\n",
      " 'Retiro' 'Salguero' 'Sarmiento']\n"
     ]
    }
   ],
   "source": [
    "print(data_2019['estacion'].unique())\n",
    "print(data_2018['estacion'].unique())\n",
    "print(data_2017['estacion'].unique())\n",
    "print(data_2016['estacion'].unique())\n"
   ]
  },
  {
   "cell_type": "code",
   "execution_count": 10,
   "metadata": {
    "colab": {},
    "colab_type": "code",
    "id": "qqvXxv-DId2b",
    "outputId": "01efcab6-d5cd-4f9e-b8fc-ab7b10374560"
   },
   "outputs": [
    {
     "name": "stdout",
     "output_type": "stream",
     "text": [
      "['Centro' 'Provincia']\n",
      "['Centro' 'Provincia']\n",
      "['Centro' 'Provincia']\n",
      "['Centro' 'Provincia']\n"
     ]
    }
   ],
   "source": [
    "print(data_2019['sentido'].unique())\n",
    "print(data_2018['sentido'].unique())\n",
    "print(data_2017['sentido'].unique())\n",
    "print(data_2016['sentido'].unique())\n"
   ]
  },
  {
   "cell_type": "code",
   "execution_count": 11,
   "metadata": {
    "colab": {},
    "colab_type": "code",
    "id": "KK4J02tHId2f",
    "outputId": "ddd178d0-5f28-4f45-d162-6b5944af306b"
   },
   "outputs": [
    {
     "name": "stdout",
     "output_type": "stream",
     "text": [
      "['Liviano' 'Pesado']\n",
      "['Liviano' 'Pesado']\n",
      "['Liviano' 'Pesado']\n",
      "['Liviano' 'Pesado']\n"
     ]
    }
   ],
   "source": [
    "print(data_2019['tipo_vehiculo'].unique())\n",
    "print(data_2018['tipo_vehiculo'].unique())\n",
    "print(data_2017['tipo_vehiculo'].unique())\n",
    "print(data_2016['tipo_vehiculo'].unique())"
   ]
  },
  {
   "cell_type": "code",
   "execution_count": 12,
   "metadata": {
    "colab": {},
    "colab_type": "code",
    "id": "_m8VhDhtId2k",
    "outputId": "a44b93a9-8bdb-4bbf-d7f5-1543c97bb447"
   },
   "outputs": [
    {
     "name": "stdout",
     "output_type": "stream",
     "text": [
      "['NO COBRADO' 'TELEPASE' 'EFECTIVO' 'EXENTO' 'INFRACCION'\n",
      " 'T. DISCAPACIDAD']\n",
      "['NO COBRADO' 'TELEPASE' 'EFECTIVO' 'EXENTO' 'TARJETA DISCAPACIDAD'\n",
      " 'INFRACCION']\n",
      "['NO COBRADO' 'TELEPASE' 'EFECTIVO' 'TARJETA DISCAPACIDAD' 'EXENTO'\n",
      " 'INFRACCION' 'MONEDERO' 'Otros']\n",
      "['NO COBRADO' 'AUPASS' 'EFECTIVO' 'EXENTO' 'TARJETA DISCAPACIDAD'\n",
      " 'INFRACCION' 'MONEDERO']\n"
     ]
    }
   ],
   "source": [
    "print(data_2019['forma_pago'].unique())\n",
    "print(data_2018['forma_pago'].unique())\n",
    "print(data_2017['forma_pago'].unique())\n",
    "print(data_2016['forma_pago'].unique())"
   ]
  },
  {
   "cell_type": "markdown",
   "metadata": {
    "colab_type": "text",
    "id": "OUImrZ0HId2q"
   },
   "source": [
    "##### Podemos decir entonces que los años 2017, 2018 y 2019 tienen las siguientes columnas con la siguiente información:\n",
    "\n",
    "**periodo**: año del dset \n",
    "\n",
    "**fecha**: año dia mes\n",
    "\n",
    "**hora_inicio** hora de inicio de la cuenta de vehiculos (DROP)\n",
    "\n",
    "**hora_fin** hora de fin de la cuenta de vehiculos (Vamos a usar esta para tomar la hora)\n",
    "\n",
    "**dia**: dia de la semana \n",
    "\n",
    "**estacion**: estaciones de peaje, difieren levemente entre los años (Dellepiane se unifica en 2019, antes habia Dellepiane Liniers y Centro, y se agrega PDB)\n",
    "\n",
    "**sentido**: Centro o Provincia\n",
    "\n",
    "**tipo_vehiculo**: Liviano o Pesado\n",
    "\n",
    "**forma_pago**: Hay varias y varian entre los años.\n",
    "\n",
    "**cantidad_pasos**: Cantidad de vehiculos"
   ]
  },
  {
   "cell_type": "markdown",
   "metadata": {
    "colab_type": "text",
    "id": "cDmDNVJDId2r"
   },
   "source": [
    "Vamos a estar trabajando con la estación **Illia** y la forma de pago **Efectivo**\n"
   ]
  },
  {
   "cell_type": "code",
   "execution_count": 13,
   "metadata": {
    "colab": {},
    "colab_type": "code",
    "id": "SOUCg2f7Id2s",
    "outputId": "7c8c43a7-63c9-4179-dc60-04c358afd65d"
   },
   "outputs": [
    {
     "data": {
      "text/html": [
       "<div>\n",
       "<style scoped>\n",
       "    .dataframe tbody tr th:only-of-type {\n",
       "        vertical-align: middle;\n",
       "    }\n",
       "\n",
       "    .dataframe tbody tr th {\n",
       "        vertical-align: top;\n",
       "    }\n",
       "\n",
       "    .dataframe thead th {\n",
       "        text-align: right;\n",
       "    }\n",
       "</style>\n",
       "<table border=\"1\" class=\"dataframe\">\n",
       "  <thead>\n",
       "    <tr style=\"text-align: right;\">\n",
       "      <th></th>\n",
       "      <th>fecha</th>\n",
       "      <th>hora_fin</th>\n",
       "      <th>dia</th>\n",
       "      <th>sentido</th>\n",
       "      <th>tipo_vehiculo</th>\n",
       "      <th>cantidad_pasos</th>\n",
       "    </tr>\n",
       "  </thead>\n",
       "  <tbody>\n",
       "    <tr>\n",
       "      <th>80</th>\n",
       "      <td>2019-01-01</td>\n",
       "      <td>2</td>\n",
       "      <td>Martes</td>\n",
       "      <td>Centro</td>\n",
       "      <td>Liviano</td>\n",
       "      <td>537</td>\n",
       "    </tr>\n",
       "    <tr>\n",
       "      <th>86</th>\n",
       "      <td>2019-01-01</td>\n",
       "      <td>2</td>\n",
       "      <td>Martes</td>\n",
       "      <td>Centro</td>\n",
       "      <td>Pesado</td>\n",
       "      <td>1</td>\n",
       "    </tr>\n",
       "    <tr>\n",
       "      <th>88</th>\n",
       "      <td>2019-01-01</td>\n",
       "      <td>2</td>\n",
       "      <td>Martes</td>\n",
       "      <td>Provincia</td>\n",
       "      <td>Liviano</td>\n",
       "      <td>443</td>\n",
       "    </tr>\n",
       "    <tr>\n",
       "      <th>94</th>\n",
       "      <td>2019-01-01</td>\n",
       "      <td>2</td>\n",
       "      <td>Martes</td>\n",
       "      <td>Provincia</td>\n",
       "      <td>Pesado</td>\n",
       "      <td>1</td>\n",
       "    </tr>\n",
       "    <tr>\n",
       "      <th>149</th>\n",
       "      <td>2019-01-01</td>\n",
       "      <td>3</td>\n",
       "      <td>Martes</td>\n",
       "      <td>Centro</td>\n",
       "      <td>Liviano</td>\n",
       "      <td>769</td>\n",
       "    </tr>\n",
       "  </tbody>\n",
       "</table>\n",
       "</div>"
      ],
      "text/plain": [
       "          fecha  hora_fin     dia    sentido tipo_vehiculo  cantidad_pasos\n",
       "80   2019-01-01         2  Martes     Centro       Liviano             537\n",
       "86   2019-01-01         2  Martes     Centro        Pesado               1\n",
       "88   2019-01-01         2  Martes  Provincia       Liviano             443\n",
       "94   2019-01-01         2  Martes  Provincia        Pesado               1\n",
       "149  2019-01-01         3  Martes     Centro       Liviano             769"
      ]
     },
     "execution_count": 13,
     "metadata": {},
     "output_type": "execute_result"
    }
   ],
   "source": [
    "#Unimos los 3 datasets, podemos hacerlo asi directamente ya que tienen las mismas columnas\n",
    "dataset = pd.concat([data_2019, data_2018, data_2017,data_2016])\n",
    "\n",
    "#Nos quedamos solamente con la estación Illia y la forma de pago Efectivo\n",
    "mask = np.logical_and(dataset.estacion=='Illia', dataset.forma_pago == 'EFECTIVO')\n",
    "dataset = dataset[mask]\n",
    "\n",
    "#Quitamos las columnas que no vamos a utilizar\n",
    "dataset.drop(columns = ['periodo','hora_inicio','forma_pago', 'estacion'], inplace = True)\n",
    "\n",
    "dataset.head()"
   ]
  },
  {
   "cell_type": "code",
   "execution_count": 14,
   "metadata": {
    "colab": {},
    "colab_type": "code",
    "id": "kLi3lxc_Id2x",
    "outputId": "7103c2e7-9908-48c1-e6b6-65930c273e56"
   },
   "outputs": [
    {
     "data": {
      "text/html": [
       "<div>\n",
       "<style scoped>\n",
       "    .dataframe tbody tr th:only-of-type {\n",
       "        vertical-align: middle;\n",
       "    }\n",
       "\n",
       "    .dataframe tbody tr th {\n",
       "        vertical-align: top;\n",
       "    }\n",
       "\n",
       "    .dataframe thead th {\n",
       "        text-align: right;\n",
       "    }\n",
       "</style>\n",
       "<table border=\"1\" class=\"dataframe\">\n",
       "  <thead>\n",
       "    <tr style=\"text-align: right;\">\n",
       "      <th></th>\n",
       "      <th>dia</th>\n",
       "      <th>sentido</th>\n",
       "      <th>tipo_vehiculo</th>\n",
       "      <th>cantidad_pasos</th>\n",
       "      <th>fecha2</th>\n",
       "    </tr>\n",
       "  </thead>\n",
       "  <tbody>\n",
       "    <tr>\n",
       "      <th>80</th>\n",
       "      <td>Martes</td>\n",
       "      <td>Centro</td>\n",
       "      <td>Liviano</td>\n",
       "      <td>537</td>\n",
       "      <td>2019-01-01 02:00:00</td>\n",
       "    </tr>\n",
       "    <tr>\n",
       "      <th>86</th>\n",
       "      <td>Martes</td>\n",
       "      <td>Centro</td>\n",
       "      <td>Pesado</td>\n",
       "      <td>1</td>\n",
       "      <td>2019-01-01 02:00:00</td>\n",
       "    </tr>\n",
       "    <tr>\n",
       "      <th>88</th>\n",
       "      <td>Martes</td>\n",
       "      <td>Provincia</td>\n",
       "      <td>Liviano</td>\n",
       "      <td>443</td>\n",
       "      <td>2019-01-01 02:00:00</td>\n",
       "    </tr>\n",
       "    <tr>\n",
       "      <th>94</th>\n",
       "      <td>Martes</td>\n",
       "      <td>Provincia</td>\n",
       "      <td>Pesado</td>\n",
       "      <td>1</td>\n",
       "      <td>2019-01-01 02:00:00</td>\n",
       "    </tr>\n",
       "    <tr>\n",
       "      <th>149</th>\n",
       "      <td>Martes</td>\n",
       "      <td>Centro</td>\n",
       "      <td>Liviano</td>\n",
       "      <td>769</td>\n",
       "      <td>2019-01-01 03:00:00</td>\n",
       "    </tr>\n",
       "  </tbody>\n",
       "</table>\n",
       "</div>"
      ],
      "text/plain": [
       "        dia    sentido tipo_vehiculo  cantidad_pasos              fecha2\n",
       "80   Martes     Centro       Liviano             537 2019-01-01 02:00:00\n",
       "86   Martes     Centro        Pesado               1 2019-01-01 02:00:00\n",
       "88   Martes  Provincia       Liviano             443 2019-01-01 02:00:00\n",
       "94   Martes  Provincia        Pesado               1 2019-01-01 02:00:00\n",
       "149  Martes     Centro       Liviano             769 2019-01-01 03:00:00"
      ]
     },
     "execution_count": 14,
     "metadata": {},
     "output_type": "execute_result"
    }
   ],
   "source": [
    "#Pasamos la columna fecha a formato datetime, y le unimos la hora_fin como hora\n",
    "dataset['fecha2'] = pd.to_datetime(dataset.fecha) + pd.to_timedelta(dataset.hora_fin, unit = 'h')\n",
    "\n",
    "#Quitamos las columnas fecha y hora_fin ya que las incluimos en el campo fecha2\n",
    "dataset.drop(columns=['fecha','hora_fin'], inplace = True)\n",
    "\n",
    "dataset.head()"
   ]
  },
  {
   "cell_type": "code",
   "execution_count": 15,
   "metadata": {
    "colab": {},
    "colab_type": "code",
    "id": "8coELKbyId23",
    "outputId": "e0175e08-c1bd-4bb5-9af0-3df5ebe8f152"
   },
   "outputs": [
    {
     "data": {
      "text/html": [
       "<div>\n",
       "<style scoped>\n",
       "    .dataframe tbody tr th:only-of-type {\n",
       "        vertical-align: middle;\n",
       "    }\n",
       "\n",
       "    .dataframe tbody tr th {\n",
       "        vertical-align: top;\n",
       "    }\n",
       "\n",
       "    .dataframe thead th {\n",
       "        text-align: right;\n",
       "    }\n",
       "</style>\n",
       "<table border=\"1\" class=\"dataframe\">\n",
       "  <thead>\n",
       "    <tr style=\"text-align: right;\">\n",
       "      <th></th>\n",
       "      <th>dia</th>\n",
       "      <th>sentido</th>\n",
       "      <th>tipo_vehiculo</th>\n",
       "      <th>cantidad_pasos</th>\n",
       "      <th>fecha</th>\n",
       "    </tr>\n",
       "  </thead>\n",
       "  <tbody>\n",
       "    <tr>\n",
       "      <th>80</th>\n",
       "      <td>Martes</td>\n",
       "      <td>Centro</td>\n",
       "      <td>Liviano</td>\n",
       "      <td>537</td>\n",
       "      <td>2019-01-01 02:00:00</td>\n",
       "    </tr>\n",
       "    <tr>\n",
       "      <th>86</th>\n",
       "      <td>Martes</td>\n",
       "      <td>Centro</td>\n",
       "      <td>Pesado</td>\n",
       "      <td>1</td>\n",
       "      <td>2019-01-01 02:00:00</td>\n",
       "    </tr>\n",
       "    <tr>\n",
       "      <th>88</th>\n",
       "      <td>Martes</td>\n",
       "      <td>Provincia</td>\n",
       "      <td>Liviano</td>\n",
       "      <td>443</td>\n",
       "      <td>2019-01-01 02:00:00</td>\n",
       "    </tr>\n",
       "    <tr>\n",
       "      <th>94</th>\n",
       "      <td>Martes</td>\n",
       "      <td>Provincia</td>\n",
       "      <td>Pesado</td>\n",
       "      <td>1</td>\n",
       "      <td>2019-01-01 02:00:00</td>\n",
       "    </tr>\n",
       "    <tr>\n",
       "      <th>149</th>\n",
       "      <td>Martes</td>\n",
       "      <td>Centro</td>\n",
       "      <td>Liviano</td>\n",
       "      <td>769</td>\n",
       "      <td>2019-01-01 03:00:00</td>\n",
       "    </tr>\n",
       "  </tbody>\n",
       "</table>\n",
       "</div>"
      ],
      "text/plain": [
       "        dia    sentido tipo_vehiculo  cantidad_pasos               fecha\n",
       "80   Martes     Centro       Liviano             537 2019-01-01 02:00:00\n",
       "86   Martes     Centro        Pesado               1 2019-01-01 02:00:00\n",
       "88   Martes  Provincia       Liviano             443 2019-01-01 02:00:00\n",
       "94   Martes  Provincia        Pesado               1 2019-01-01 02:00:00\n",
       "149  Martes     Centro       Liviano             769 2019-01-01 03:00:00"
      ]
     },
     "execution_count": 15,
     "metadata": {},
     "output_type": "execute_result"
    }
   ],
   "source": [
    "#Corregimos el nombre de fecha2 a fecha\n",
    "dataset.rename(columns = {'fecha2':'fecha'}, inplace = True) \n",
    "dataset.head()"
   ]
  },
  {
   "cell_type": "code",
   "execution_count": 16,
   "metadata": {
    "colab": {},
    "colab_type": "code",
    "id": "Z4Uzn2ktId29",
    "outputId": "909993f9-0918-4736-f457-cc0b25bcb500"
   },
   "outputs": [
    {
     "data": {
      "text/html": [
       "<div>\n",
       "<style scoped>\n",
       "    .dataframe tbody tr th:only-of-type {\n",
       "        vertical-align: middle;\n",
       "    }\n",
       "\n",
       "    .dataframe tbody tr th {\n",
       "        vertical-align: top;\n",
       "    }\n",
       "\n",
       "    .dataframe thead th {\n",
       "        text-align: right;\n",
       "    }\n",
       "</style>\n",
       "<table border=\"1\" class=\"dataframe\">\n",
       "  <thead>\n",
       "    <tr style=\"text-align: right;\">\n",
       "      <th></th>\n",
       "      <th>dia</th>\n",
       "      <th>sentido</th>\n",
       "      <th>tipo_vehiculo</th>\n",
       "      <th>cantidad_pasos</th>\n",
       "      <th>fecha</th>\n",
       "    </tr>\n",
       "  </thead>\n",
       "  <tbody>\n",
       "    <tr>\n",
       "      <th>0</th>\n",
       "      <td>Viernes</td>\n",
       "      <td>Centro</td>\n",
       "      <td>Liviano</td>\n",
       "      <td>14</td>\n",
       "      <td>2016-01-01 00:00:00</td>\n",
       "    </tr>\n",
       "    <tr>\n",
       "      <th>1</th>\n",
       "      <td>Viernes</td>\n",
       "      <td>Centro</td>\n",
       "      <td>Pesado</td>\n",
       "      <td>3</td>\n",
       "      <td>2016-01-01 00:00:00</td>\n",
       "    </tr>\n",
       "    <tr>\n",
       "      <th>2</th>\n",
       "      <td>Viernes</td>\n",
       "      <td>Provincia</td>\n",
       "      <td>Liviano</td>\n",
       "      <td>66</td>\n",
       "      <td>2016-01-01 00:00:00</td>\n",
       "    </tr>\n",
       "    <tr>\n",
       "      <th>3</th>\n",
       "      <td>Viernes</td>\n",
       "      <td>Provincia</td>\n",
       "      <td>Pesado</td>\n",
       "      <td>1</td>\n",
       "      <td>2016-01-01 00:00:00</td>\n",
       "    </tr>\n",
       "    <tr>\n",
       "      <th>4</th>\n",
       "      <td>Viernes</td>\n",
       "      <td>Provincia</td>\n",
       "      <td>Pesado</td>\n",
       "      <td>4</td>\n",
       "      <td>2016-01-01 00:00:00</td>\n",
       "    </tr>\n",
       "    <tr>\n",
       "      <th>...</th>\n",
       "      <td>...</td>\n",
       "      <td>...</td>\n",
       "      <td>...</td>\n",
       "      <td>...</td>\n",
       "      <td>...</td>\n",
       "    </tr>\n",
       "    <tr>\n",
       "      <th>346561</th>\n",
       "      <td>Martes</td>\n",
       "      <td>Provincia</td>\n",
       "      <td>Liviano</td>\n",
       "      <td>556</td>\n",
       "      <td>2019-12-31 22:00:00</td>\n",
       "    </tr>\n",
       "    <tr>\n",
       "      <th>346562</th>\n",
       "      <td>Martes</td>\n",
       "      <td>Provincia</td>\n",
       "      <td>Pesado</td>\n",
       "      <td>1</td>\n",
       "      <td>2019-12-31 22:00:00</td>\n",
       "    </tr>\n",
       "    <tr>\n",
       "      <th>346563</th>\n",
       "      <td>Martes</td>\n",
       "      <td>Centro</td>\n",
       "      <td>Liviano</td>\n",
       "      <td>580</td>\n",
       "      <td>2019-12-31 22:00:00</td>\n",
       "    </tr>\n",
       "    <tr>\n",
       "      <th>346564</th>\n",
       "      <td>Martes</td>\n",
       "      <td>Centro</td>\n",
       "      <td>Liviano</td>\n",
       "      <td>214</td>\n",
       "      <td>2019-12-31 23:00:00</td>\n",
       "    </tr>\n",
       "    <tr>\n",
       "      <th>346565</th>\n",
       "      <td>Martes</td>\n",
       "      <td>Provincia</td>\n",
       "      <td>Liviano</td>\n",
       "      <td>190</td>\n",
       "      <td>2019-12-31 23:00:00</td>\n",
       "    </tr>\n",
       "  </tbody>\n",
       "</table>\n",
       "<p>346566 rows × 5 columns</p>\n",
       "</div>"
      ],
      "text/plain": [
       "            dia    sentido tipo_vehiculo  cantidad_pasos               fecha\n",
       "0       Viernes     Centro       Liviano              14 2016-01-01 00:00:00\n",
       "1       Viernes     Centro        Pesado               3 2016-01-01 00:00:00\n",
       "2       Viernes  Provincia       Liviano              66 2016-01-01 00:00:00\n",
       "3       Viernes  Provincia        Pesado               1 2016-01-01 00:00:00\n",
       "4       Viernes  Provincia        Pesado               4 2016-01-01 00:00:00\n",
       "...         ...        ...           ...             ...                 ...\n",
       "346561   Martes  Provincia       Liviano             556 2019-12-31 22:00:00\n",
       "346562   Martes  Provincia        Pesado               1 2019-12-31 22:00:00\n",
       "346563   Martes     Centro       Liviano             580 2019-12-31 22:00:00\n",
       "346564   Martes     Centro       Liviano             214 2019-12-31 23:00:00\n",
       "346565   Martes  Provincia       Liviano             190 2019-12-31 23:00:00\n",
       "\n",
       "[346566 rows x 5 columns]"
      ]
     },
     "execution_count": 16,
     "metadata": {},
     "output_type": "execute_result"
    }
   ],
   "source": [
    "#Reordenamos el dataset por fecha\n",
    "dataset.sort_values('fecha', inplace = True)\n",
    "dataset.reset_index(drop=True, inplace = True)\n",
    "dataset"
   ]
  },
  {
   "cell_type": "code",
   "execution_count": 17,
   "metadata": {
    "colab": {},
    "colab_type": "code",
    "id": "ZzYn6u95Id3B",
    "outputId": "0fb0f7bf-be9e-4ac4-9028-4c6e0947dc9c"
   },
   "outputs": [
    {
     "data": {
      "image/png": "[encoded data removed]",
      "text/plain": [
       "<Figure size 1080x432 with 1 Axes>"
      ]
     },
     "metadata": {
      "needs_background": "light"
     },
     "output_type": "display_data"
    }
   ],
   "source": [
    "#Graficamos nuestros datos, tal como están\n",
    "plt.figure(figsize = (15,6))\n",
    "plt.plot(dataset.fecha, dataset.cantidad_pasos)\n",
    "plt.xlabel('Tiempo')\n",
    "plt.ylabel('Cantidad de autos, por hora')\n",
    "plt.show()"
   ]
  },
  {
   "cell_type": "code",
   "execution_count": 18,
   "metadata": {
    "colab": {},
    "colab_type": "code",
    "id": "amoQFmNpId3F",
    "outputId": "07236a00-29a6-435a-cd3d-f32cc7c07d35"
   },
   "outputs": [
    {
     "name": "stdout",
     "output_type": "stream",
     "text": [
      "(1461, 1)\n"
     ]
    },
    {
     "data": {
      "text/html": [
       "<div>\n",
       "<style scoped>\n",
       "    .dataframe tbody tr th:only-of-type {\n",
       "        vertical-align: middle;\n",
       "    }\n",
       "\n",
       "    .dataframe tbody tr th {\n",
       "        vertical-align: top;\n",
       "    }\n",
       "\n",
       "    .dataframe thead th {\n",
       "        text-align: right;\n",
       "    }\n",
       "</style>\n",
       "<table border=\"1\" class=\"dataframe\">\n",
       "  <thead>\n",
       "    <tr style=\"text-align: right;\">\n",
       "      <th></th>\n",
       "      <th>cantidad_pasos</th>\n",
       "    </tr>\n",
       "    <tr>\n",
       "      <th>fecha</th>\n",
       "      <th></th>\n",
       "    </tr>\n",
       "  </thead>\n",
       "  <tbody>\n",
       "    <tr>\n",
       "      <th>2016-01-01</th>\n",
       "      <td>25602</td>\n",
       "    </tr>\n",
       "    <tr>\n",
       "      <th>2016-01-02</th>\n",
       "      <td>36136</td>\n",
       "    </tr>\n",
       "    <tr>\n",
       "      <th>2016-01-03</th>\n",
       "      <td>37225</td>\n",
       "    </tr>\n",
       "    <tr>\n",
       "      <th>2016-01-04</th>\n",
       "      <td>50312</td>\n",
       "    </tr>\n",
       "    <tr>\n",
       "      <th>2016-01-05</th>\n",
       "      <td>49907</td>\n",
       "    </tr>\n",
       "  </tbody>\n",
       "</table>\n",
       "</div>"
      ],
      "text/plain": [
       "            cantidad_pasos\n",
       "fecha                     \n",
       "2016-01-01           25602\n",
       "2016-01-02           36136\n",
       "2016-01-03           37225\n",
       "2016-01-04           50312\n",
       "2016-01-05           49907"
      ]
     },
     "execution_count": 18,
     "metadata": {},
     "output_type": "execute_result"
    }
   ],
   "source": [
    "#Resampleamos nuestros datos para agrupar por dia, y asi tal vez lograr una visualización mas amigable\n",
    "diario = dataset.resample('D', on = 'fecha').sum()\n",
    "print(diario.shape)\n",
    "diario.head()"
   ]
  },
  {
   "cell_type": "code",
   "execution_count": 19,
   "metadata": {
    "colab": {},
    "colab_type": "code",
    "id": "JgqZaiEDId3L",
    "outputId": "381d8dc4-877c-4ccb-c0cd-83f54a1dfc0a"
   },
   "outputs": [
    {
     "data": {
      "image/png": "[encoded data removed]",
      "text/plain": [
       "<Figure size 1080x432 with 1 Axes>"
      ]
     },
     "metadata": {
      "needs_background": "light"
     },
     "output_type": "display_data"
    }
   ],
   "source": [
    "plt.figure(figsize = (15,6))\n",
    "plt.plot(diario.index, diario.cantidad_pasos)\n",
    "plt.xlabel('Tiempo')\n",
    "plt.ylabel('Cantidad de autos, por dia')\n",
    "plt.show()"
   ]
  },
  {
   "cell_type": "code",
   "execution_count": 20,
   "metadata": {
    "colab": {},
    "colab_type": "code",
    "id": "vfwxE2VXId3O"
   },
   "outputs": [
    {
     "data": {
      "text/plain": [
       "dia               0\n",
       "sentido           0\n",
       "tipo_vehiculo     0\n",
       "cantidad_pasos    0\n",
       "fecha             0\n",
       "dtype: int64"
      ]
     },
     "execution_count": 20,
     "metadata": {},
     "output_type": "execute_result"
    }
   ],
   "source": [
    "dataset.isna().sum() # vemos si tenemos algún valor faltante"
   ]
  },
  {
   "cell_type": "markdown",
   "metadata": {},
   "source": [
    "periodo de tiempo semanal"
   ]
  },
  {
   "cell_type": "code",
   "execution_count": 21,
   "metadata": {},
   "outputs": [
    {
     "name": "stdout",
     "output_type": "stream",
     "text": [
      "(210, 1)\n"
     ]
    },
    {
     "data": {
      "text/html": [
       "<div>\n",
       "<style scoped>\n",
       "    .dataframe tbody tr th:only-of-type {\n",
       "        vertical-align: middle;\n",
       "    }\n",
       "\n",
       "    .dataframe tbody tr th {\n",
       "        vertical-align: top;\n",
       "    }\n",
       "\n",
       "    .dataframe thead th {\n",
       "        text-align: right;\n",
       "    }\n",
       "</style>\n",
       "<table border=\"1\" class=\"dataframe\">\n",
       "  <thead>\n",
       "    <tr style=\"text-align: right;\">\n",
       "      <th></th>\n",
       "      <th>cantidad_pasos</th>\n",
       "    </tr>\n",
       "    <tr>\n",
       "      <th>fecha</th>\n",
       "      <th></th>\n",
       "    </tr>\n",
       "  </thead>\n",
       "  <tbody>\n",
       "    <tr>\n",
       "      <th>2016-01-03</th>\n",
       "      <td>98963</td>\n",
       "    </tr>\n",
       "    <tr>\n",
       "      <th>2016-01-10</th>\n",
       "      <td>342201</td>\n",
       "    </tr>\n",
       "    <tr>\n",
       "      <th>2016-01-17</th>\n",
       "      <td>359649</td>\n",
       "    </tr>\n",
       "    <tr>\n",
       "      <th>2016-01-24</th>\n",
       "      <td>346217</td>\n",
       "    </tr>\n",
       "    <tr>\n",
       "      <th>2016-01-31</th>\n",
       "      <td>348221</td>\n",
       "    </tr>\n",
       "  </tbody>\n",
       "</table>\n",
       "</div>"
      ],
      "text/plain": [
       "            cantidad_pasos\n",
       "fecha                     \n",
       "2016-01-03           98963\n",
       "2016-01-10          342201\n",
       "2016-01-17          359649\n",
       "2016-01-24          346217\n",
       "2016-01-31          348221"
      ]
     },
     "execution_count": 21,
     "metadata": {},
     "output_type": "execute_result"
    }
   ],
   "source": [
    "semanal = dataset.resample('W', on = 'fecha').sum()\n",
    "print(semanal.shape)\n",
    "semanal.head()"
   ]
  },
  {
   "cell_type": "code",
   "execution_count": 22,
   "metadata": {},
   "outputs": [
    {
     "data": {
      "image/png": "[encoded data removed]",
      "text/plain": [
       "<Figure size 1080x432 with 1 Axes>"
      ]
     },
     "metadata": {
      "needs_background": "light"
     },
     "output_type": "display_data"
    }
   ],
   "source": [
    "plt.figure(figsize = (15,6))\n",
    "plt.plot(semanal.index, semanal.cantidad_pasos)\n",
    "plt.xlim(datetime.date(2017,1,1), datetime.date(2018,1,1))\n",
    "plt.xlabel('Tiempo')\n",
    "plt.ylabel('Cantidad de autos, por dia')\n",
    "plt.show()"
   ]
  },
  {
   "cell_type": "code",
   "execution_count": null,
   "metadata": {},
   "outputs": [],
   "source": []
  }
 ],
 "metadata": {
  "colab": {
   "collapsed_sections": [],
   "name": "DS_Proyecto_03_ST.ipynb",
   "provenance": []
  },
  "kernelspec": {
   "display_name": "Python 3",
   "language": "python",
   "name": "python3"
  },
  "language_info": {
   "codemirror_mode": {
    "name": "ipython",
    "version": 3
   },
   "file_extension": ".py",
   "mimetype": "text/x-python",
   "name": "python",
   "nbconvert_exporter": "python",
   "pygments_lexer": "ipython3",
   "version": "3.8.2"
  }
 },
 "nbformat": 4,
 "nbformat_minor": 4
}
